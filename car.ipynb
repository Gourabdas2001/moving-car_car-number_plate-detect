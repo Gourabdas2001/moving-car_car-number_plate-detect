{
 "cells": [
  {
   "cell_type": "code",
   "execution_count": 1,
   "id": "3641c59b",
   "metadata": {},
   "outputs": [],
   "source": [
    "import cv2"
   ]
  },
  {
   "cell_type": "code",
   "execution_count": 2,
   "id": "e047cdf8",
   "metadata": {},
   "outputs": [],
   "source": [
    "haar_cascade = r'C:\\Users\\goura\\Downloads\\CWML\\HaarCascade_cars.xml'\n",
    "video = r'C:\\Users\\goura\\Downloads\\CWML\\video5.mp4'"
   ]
  },
  {
   "cell_type": "code",
   "execution_count": 3,
   "id": "99ab1756",
   "metadata": {},
   "outputs": [],
   "source": [
    "cap = cv2.VideoCapture(video)\n",
    "car_cascade = cv2.CascadeClassifier(haar_cascade)"
   ]
  },
  {
   "cell_type": "code",
   "execution_count": 5,
   "id": "7870a304",
   "metadata": {},
   "outputs": [],
   "source": [
    "while True:\n",
    "\n",
    "    ret, frame= cap.read()\n",
    "    if not ret:\n",
    "            break\n",
    "    gray = cv2.cvtColor(frame, cv2.COLOR_RGB2GRAY)\n",
    "    cars = car_cascade.detectMultiScale(gray, 1.1, 3)\n",
    "    for (x,y,w,h) in cars:\n",
    "        cv2.rectangle(frame,(x,y),(x+w,y+h),(250,0,0),1)\n",
    "    cv2.imshow('video', frame)\n",
    "    if cv2.waitKey(50) == 25:\n",
    "        break\n"
   ]
  },
  {
   "cell_type": "code",
   "execution_count": 6,
   "id": "2cfa8a48",
   "metadata": {},
   "outputs": [],
   "source": [
    "cv2.destroyAllWindows()"
   ]
  },
  {
   "cell_type": "code",
   "execution_count": null,
   "id": "086f4d64",
   "metadata": {},
   "outputs": [],
   "source": []
  }
 ],
 "metadata": {
  "kernelspec": {
   "display_name": "Python 3 (ipykernel)",
   "language": "python",
   "name": "python3"
  },
  "language_info": {
   "codemirror_mode": {
    "name": "ipython",
    "version": 3
   },
   "file_extension": ".py",
   "mimetype": "text/x-python",
   "name": "python",
   "nbconvert_exporter": "python",
   "pygments_lexer": "ipython3",
   "version": "3.10.9"
  }
 },
 "nbformat": 4,
 "nbformat_minor": 5
}
